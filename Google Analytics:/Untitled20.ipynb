{
  "nbformat": 4,
  "nbformat_minor": 0,
  "metadata": {
    "colab": {
      "provenance": []
    },
    "kernelspec": {
      "name": "python3",
      "display_name": "Python 3"
    },
    "language_info": {
      "name": "python"
    }
  },
  "cells": [
    {
      "cell_type": "code",
      "execution_count": null,
      "metadata": {
        "id": "KMSLFfta18jA"
      },
      "outputs": [],
      "source": [
        "# Google Analytics / Funnel / Cohorot / "
      ]
    },
    {
      "cell_type": "markdown",
      "source": [
        "https://lookerstudio.google.com/reporting/b0564324-a46b-422d-bddf-10729152ffea"
      ],
      "metadata": {
        "id": "5kl7rMFz2ENn"
      }
    },
    {
      "cell_type": "code",
      "source": [
        "# Power Bi:"
      ],
      "metadata": {
        "id": "5mUblsBc2LiR"
      },
      "execution_count": null,
      "outputs": []
    },
    {
      "cell_type": "markdown",
      "source": [
        "https://drive.google.com/drive/folders/1oAntJ_s3RRI37xq-A-yUU3l0adPo2JjM?usp=sharing"
      ],
      "metadata": {
        "id": "rZjXkH-w-9Vv"
      }
    },
    {
      "cell_type": "code",
      "source": [
        "#Tableau:\n"
      ],
      "metadata": {
        "colab": {
          "base_uri": "https://localhost:8080/",
          "height": 130
        },
        "id": "thRDP_dF--hv",
        "outputId": "643ec0df-ae64-445e-a7ce-ecbd8bed3e50"
      },
      "execution_count": 1,
      "outputs": [
        {
          "output_type": "error",
          "ename": "SyntaxError",
          "evalue": "ignored",
          "traceback": [
            "\u001b[0;36m  File \u001b[0;32m\"<ipython-input-1-82ea5e8d15c2>\"\u001b[0;36m, line \u001b[0;32m1\u001b[0m\n\u001b[0;31m    Tableau:\u001b[0m\n\u001b[0m            ^\u001b[0m\n\u001b[0;31mSyntaxError\u001b[0m\u001b[0;31m:\u001b[0m invalid syntax\n"
          ]
        }
      ]
    },
    {
      "cell_type": "markdown",
      "source": [
        "https://public.tableau.com/views/GooglePlaystoreanalysis_16823277370480/CategoryDashboard?:language=en-US&publish=yes&:display_count=n&:origin=viz_share_link"
      ],
      "metadata": {
        "id": "yJzcz5fg_Lid"
      }
    },
    {
      "cell_type": "code",
      "source": [],
      "metadata": {
        "id": "LTx78x8f_K0k"
      },
      "execution_count": null,
      "outputs": []
    }
  ]
}